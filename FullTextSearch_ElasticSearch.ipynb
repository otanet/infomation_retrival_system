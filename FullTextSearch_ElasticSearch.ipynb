{
  "nbformat": 4,
  "nbformat_minor": 0,
  "metadata": {
    "colab": {
      "name": "全文検索_ElasticSearch.ipynb",
      "provenance": [],
      "collapsed_sections": [
        "rr8_1pqmMHal"
      ],
      "include_colab_link": true
    },
    "kernelspec": {
      "name": "python3",
      "display_name": "Python 3"
    },
    "language_info": {
      "name": "python"
    },
    "widgets": {
      "application/vnd.jupyter.widget-state+json": {
        "d51dc95611a547a68039fce9b8b4e490": {
          "model_module": "@jupyter-widgets/controls",
          "model_name": "HBoxModel",
          "model_module_version": "1.5.0",
          "state": {
            "_dom_classes": [],
            "_model_module": "@jupyter-widgets/controls",
            "_model_module_version": "1.5.0",
            "_model_name": "HBoxModel",
            "_view_count": null,
            "_view_module": "@jupyter-widgets/controls",
            "_view_module_version": "1.5.0",
            "_view_name": "HBoxView",
            "box_style": "",
            "children": [
              "IPY_MODEL_e5a186807522405d8b43885d965dc757",
              "IPY_MODEL_f578f6fbff874deea902f197fed77352",
              "IPY_MODEL_1862115a7c904a8eb5f81527a4cf7f57"
            ],
            "layout": "IPY_MODEL_d7dc745c5d8a4e37a1b3d0f62d8e455c"
          }
        },
        "e5a186807522405d8b43885d965dc757": {
          "model_module": "@jupyter-widgets/controls",
          "model_name": "HTMLModel",
          "model_module_version": "1.5.0",
          "state": {
            "_dom_classes": [],
            "_model_module": "@jupyter-widgets/controls",
            "_model_module_version": "1.5.0",
            "_model_name": "HTMLModel",
            "_view_count": null,
            "_view_module": "@jupyter-widgets/controls",
            "_view_module_version": "1.5.0",
            "_view_name": "HTMLView",
            "description": "",
            "description_tooltip": null,
            "layout": "IPY_MODEL_e7f09cf9c654409080ceb3b6cb5043df",
            "placeholder": "​",
            "style": "IPY_MODEL_6d1c3eb1cf2e4dd39a0ba9fa769ed923",
            "value": ""
          }
        },
        "f578f6fbff874deea902f197fed77352": {
          "model_module": "@jupyter-widgets/controls",
          "model_name": "FloatProgressModel",
          "model_module_version": "1.5.0",
          "state": {
            "_dom_classes": [],
            "_model_module": "@jupyter-widgets/controls",
            "_model_module_version": "1.5.0",
            "_model_name": "FloatProgressModel",
            "_view_count": null,
            "_view_module": "@jupyter-widgets/controls",
            "_view_module_version": "1.5.0",
            "_view_name": "ProgressView",
            "bar_style": "danger",
            "description": "",
            "description_tooltip": null,
            "layout": "IPY_MODEL_8b8f275111514b8c8ed931489b997af7",
            "max": 750000,
            "min": 0,
            "orientation": "horizontal",
            "style": "IPY_MODEL_9402c565a85a4daab7d5b09ab3b3af94",
            "value": 750000
          }
        },
        "1862115a7c904a8eb5f81527a4cf7f57": {
          "model_module": "@jupyter-widgets/controls",
          "model_name": "HTMLModel",
          "model_module_version": "1.5.0",
          "state": {
            "_dom_classes": [],
            "_model_module": "@jupyter-widgets/controls",
            "_model_module_version": "1.5.0",
            "_model_name": "HTMLModel",
            "_view_count": null,
            "_view_module": "@jupyter-widgets/controls",
            "_view_module_version": "1.5.0",
            "_view_name": "HTMLView",
            "description": "",
            "description_tooltip": null,
            "layout": "IPY_MODEL_afd29d234ef845448b78340674c09a8e",
            "placeholder": "​",
            "style": "IPY_MODEL_28f3d107e6ba42eb907d961708390403",
            "value": " 779788/? [14:04&lt;00:00, 1854.58it/s]"
          }
        },
        "d7dc745c5d8a4e37a1b3d0f62d8e455c": {
          "model_module": "@jupyter-widgets/base",
          "model_name": "LayoutModel",
          "model_module_version": "1.2.0",
          "state": {
            "_model_module": "@jupyter-widgets/base",
            "_model_module_version": "1.2.0",
            "_model_name": "LayoutModel",
            "_view_count": null,
            "_view_module": "@jupyter-widgets/base",
            "_view_module_version": "1.2.0",
            "_view_name": "LayoutView",
            "align_content": null,
            "align_items": null,
            "align_self": null,
            "border": null,
            "bottom": null,
            "display": null,
            "flex": null,
            "flex_flow": null,
            "grid_area": null,
            "grid_auto_columns": null,
            "grid_auto_flow": null,
            "grid_auto_rows": null,
            "grid_column": null,
            "grid_gap": null,
            "grid_row": null,
            "grid_template_areas": null,
            "grid_template_columns": null,
            "grid_template_rows": null,
            "height": null,
            "justify_content": null,
            "justify_items": null,
            "left": null,
            "margin": null,
            "max_height": null,
            "max_width": null,
            "min_height": null,
            "min_width": null,
            "object_fit": null,
            "object_position": null,
            "order": null,
            "overflow": null,
            "overflow_x": null,
            "overflow_y": null,
            "padding": null,
            "right": null,
            "top": null,
            "visibility": null,
            "width": null
          }
        },
        "e7f09cf9c654409080ceb3b6cb5043df": {
          "model_module": "@jupyter-widgets/base",
          "model_name": "LayoutModel",
          "model_module_version": "1.2.0",
          "state": {
            "_model_module": "@jupyter-widgets/base",
            "_model_module_version": "1.2.0",
            "_model_name": "LayoutModel",
            "_view_count": null,
            "_view_module": "@jupyter-widgets/base",
            "_view_module_version": "1.2.0",
            "_view_name": "LayoutView",
            "align_content": null,
            "align_items": null,
            "align_self": null,
            "border": null,
            "bottom": null,
            "display": null,
            "flex": null,
            "flex_flow": null,
            "grid_area": null,
            "grid_auto_columns": null,
            "grid_auto_flow": null,
            "grid_auto_rows": null,
            "grid_column": null,
            "grid_gap": null,
            "grid_row": null,
            "grid_template_areas": null,
            "grid_template_columns": null,
            "grid_template_rows": null,
            "height": null,
            "justify_content": null,
            "justify_items": null,
            "left": null,
            "margin": null,
            "max_height": null,
            "max_width": null,
            "min_height": null,
            "min_width": null,
            "object_fit": null,
            "object_position": null,
            "order": null,
            "overflow": null,
            "overflow_x": null,
            "overflow_y": null,
            "padding": null,
            "right": null,
            "top": null,
            "visibility": null,
            "width": null
          }
        },
        "6d1c3eb1cf2e4dd39a0ba9fa769ed923": {
          "model_module": "@jupyter-widgets/controls",
          "model_name": "DescriptionStyleModel",
          "model_module_version": "1.5.0",
          "state": {
            "_model_module": "@jupyter-widgets/controls",
            "_model_module_version": "1.5.0",
            "_model_name": "DescriptionStyleModel",
            "_view_count": null,
            "_view_module": "@jupyter-widgets/base",
            "_view_module_version": "1.2.0",
            "_view_name": "StyleView",
            "description_width": ""
          }
        },
        "8b8f275111514b8c8ed931489b997af7": {
          "model_module": "@jupyter-widgets/base",
          "model_name": "LayoutModel",
          "model_module_version": "1.2.0",
          "state": {
            "_model_module": "@jupyter-widgets/base",
            "_model_module_version": "1.2.0",
            "_model_name": "LayoutModel",
            "_view_count": null,
            "_view_module": "@jupyter-widgets/base",
            "_view_module_version": "1.2.0",
            "_view_name": "LayoutView",
            "align_content": null,
            "align_items": null,
            "align_self": null,
            "border": null,
            "bottom": null,
            "display": null,
            "flex": null,
            "flex_flow": null,
            "grid_area": null,
            "grid_auto_columns": null,
            "grid_auto_flow": null,
            "grid_auto_rows": null,
            "grid_column": null,
            "grid_gap": null,
            "grid_row": null,
            "grid_template_areas": null,
            "grid_template_columns": null,
            "grid_template_rows": null,
            "height": null,
            "justify_content": null,
            "justify_items": null,
            "left": null,
            "margin": null,
            "max_height": null,
            "max_width": null,
            "min_height": null,
            "min_width": null,
            "object_fit": null,
            "object_position": null,
            "order": null,
            "overflow": null,
            "overflow_x": null,
            "overflow_y": null,
            "padding": null,
            "right": null,
            "top": null,
            "visibility": null,
            "width": null
          }
        },
        "9402c565a85a4daab7d5b09ab3b3af94": {
          "model_module": "@jupyter-widgets/controls",
          "model_name": "ProgressStyleModel",
          "model_module_version": "1.5.0",
          "state": {
            "_model_module": "@jupyter-widgets/controls",
            "_model_module_version": "1.5.0",
            "_model_name": "ProgressStyleModel",
            "_view_count": null,
            "_view_module": "@jupyter-widgets/base",
            "_view_module_version": "1.2.0",
            "_view_name": "StyleView",
            "bar_color": null,
            "description_width": ""
          }
        },
        "afd29d234ef845448b78340674c09a8e": {
          "model_module": "@jupyter-widgets/base",
          "model_name": "LayoutModel",
          "model_module_version": "1.2.0",
          "state": {
            "_model_module": "@jupyter-widgets/base",
            "_model_module_version": "1.2.0",
            "_model_name": "LayoutModel",
            "_view_count": null,
            "_view_module": "@jupyter-widgets/base",
            "_view_module_version": "1.2.0",
            "_view_name": "LayoutView",
            "align_content": null,
            "align_items": null,
            "align_self": null,
            "border": null,
            "bottom": null,
            "display": null,
            "flex": null,
            "flex_flow": null,
            "grid_area": null,
            "grid_auto_columns": null,
            "grid_auto_flow": null,
            "grid_auto_rows": null,
            "grid_column": null,
            "grid_gap": null,
            "grid_row": null,
            "grid_template_areas": null,
            "grid_template_columns": null,
            "grid_template_rows": null,
            "height": null,
            "justify_content": null,
            "justify_items": null,
            "left": null,
            "margin": null,
            "max_height": null,
            "max_width": null,
            "min_height": null,
            "min_width": null,
            "object_fit": null,
            "object_position": null,
            "order": null,
            "overflow": null,
            "overflow_x": null,
            "overflow_y": null,
            "padding": null,
            "right": null,
            "top": null,
            "visibility": null,
            "width": null
          }
        },
        "28f3d107e6ba42eb907d961708390403": {
          "model_module": "@jupyter-widgets/controls",
          "model_name": "DescriptionStyleModel",
          "model_module_version": "1.5.0",
          "state": {
            "_model_module": "@jupyter-widgets/controls",
            "_model_module_version": "1.5.0",
            "_model_name": "DescriptionStyleModel",
            "_view_count": null,
            "_view_module": "@jupyter-widgets/base",
            "_view_module_version": "1.2.0",
            "_view_name": "StyleView",
            "description_width": ""
          }
        }
      }
    }
  },
  "cells": [
    {
      "cell_type": "markdown",
      "metadata": {
        "id": "view-in-github",
        "colab_type": "text"
      },
      "source": [
        "<a href=\"https://colab.research.google.com/github/otanet/infomation_retrival_system/blob/main/FullTextSearch_ElasticSearch.ipynb\" target=\"_parent\"><img src=\"https://colab.research.google.com/assets/colab-badge.svg\" alt=\"Open In Colab\"/></a>"
      ]
    },
    {
      "cell_type": "markdown",
      "source": [
        "# Colabで全文検索（その６：ElasticSearch編）\n",
        "\n",
        "各種全文検索ツールをColabで動かしてみるシリーズです。今回はElasticSearchです。\n",
        "\n",
        "処理時間の計測はストレージのキャッシュとの兼ね合いがあるので、2回測ります。2回目は全てがメモリに載った状態での性能評価になります。ただ1回目もデータを投入した直後なので、メモリに載ってしまっている可能性があります。"
      ],
      "metadata": {
        "id": "1K0_sJIHCjL6"
      }
    },
    {
      "cell_type": "markdown",
      "metadata": {
        "id": "rr8_1pqmMHal"
      },
      "source": [
        "## 準備\n",
        "\n",
        "まずは検索対象のテキストを日本語wikiから取得して、Google Driveに保存します。"
      ]
    },
    {
      "cell_type": "markdown",
      "source": [
        "Google Driveのマウント"
      ],
      "metadata": {
        "id": "SfwapuEEMHal"
      }
    },
    {
      "cell_type": "code",
      "execution_count": null,
      "metadata": {
        "colab": {
          "base_uri": "https://localhost:8080/"
        },
        "outputId": "8f148b44-2fde-48c5-9d76-64e621b9de88",
        "id": "uB4D_a2JMHal"
      },
      "outputs": [
        {
          "output_type": "stream",
          "name": "stdout",
          "text": [
            "Mounted at /content/drive\n"
          ]
        }
      ],
      "source": [
        "from google.colab import drive\n",
        "drive.mount('/content/drive')"
      ]
    },
    {
      "cell_type": "markdown",
      "source": [
        "jawikiの取得とjson形式に変換。90分ほど時間がかかります。"
      ],
      "metadata": {
        "id": "noPtYp0ZMHam"
      }
    },
    {
      "cell_type": "code",
      "execution_count": null,
      "metadata": {
        "colab": {
          "base_uri": "https://localhost:8080/"
        },
        "outputId": "1ba9ad6a-b353-44a0-96fb-1197cee29b77",
        "id": "5AbKu4okMHam"
      },
      "outputs": [
        {
          "output_type": "stream",
          "name": "stdout",
          "text": [
            "/content\n",
            "CPU times: user 2.15 ms, sys: 0 ns, total: 2.15 ms\n",
            "Wall time: 2.6 ms\n"
          ]
        }
      ],
      "source": [
        "%%time\n",
        "%cd /content/\n",
        "import os\n",
        "if not os.path.exists('/content/drive/MyDrive/wiki.json.bz2'):\n",
        "    !wget https://dumps.wikimedia.org/jawiki/latest/jawiki-latest-pages-articles.xml.bz2\n",
        "    !pip install wikiextractor\n",
        "    !python -m wikiextractor.WikiExtractor --no-templates --processes 4 --json -b 10G -o - jawiki-latest-pages-articles.xml.bz2 | bzip2 -c > /content/drive/MyDrive/wiki.json.bz2"
      ]
    },
    {
      "cell_type": "markdown",
      "source": [
        "json形式に変換されたデータを確認"
      ],
      "metadata": {
        "id": "n2mhXmY6MHam"
      }
    },
    {
      "cell_type": "code",
      "execution_count": null,
      "metadata": {
        "colab": {
          "base_uri": "https://localhost:8080/"
        },
        "outputId": "c0318022-cadd-4adc-a8b3-d209f26afa8e",
        "id": "do5SBCPJMHam"
      },
      "outputs": [
        {
          "output_type": "stream",
          "name": "stdout",
          "text": [
            "アンパサンド\tアンパサンド（&amp;, ）は、並立助詞「…と…」を意味する記号である。ラテン\n",
            "言語\t言語（げんご）は、広辞苑や大辞泉には次のように解説されている。『日本大百科事典』\n",
            "日本語\t 日本語（にほんご、にっぽんご）は、日本国内や、かつての日本領だった国、そして日\n",
            "地理学\t地理学（ちりがく、、、伊：geografia、）は、。地域や空間、場所、自然環境\n",
            "EU (曖昧さ回避)\tEU\n",
            "国の一覧\t国の一覧（くにのいちらん）は、世界の独立国の一覧。対象.国際法上国家と言えるか否\n"
          ]
        }
      ],
      "source": [
        "import json\n",
        "import bz2\n",
        "\n",
        "with bz2.open('/content/drive/MyDrive/wiki.json.bz2', 'rt', encoding='utf-8') as fin:\n",
        "    for n, line in enumerate(fin):\n",
        "        data = json.loads(line)\n",
        "        print(data['title'].strip(), data['text'].replace('\\n', '')[:40], sep='\\t')\n",
        "        if n == 5:\n",
        "            break"
      ]
    },
    {
      "cell_type": "markdown",
      "metadata": {
        "id": "D4fK7kDQ8q_O"
      },
      "source": [
        "## ElasticSearchのインストール"
      ]
    },
    {
      "cell_type": "markdown",
      "source": [
        "### ダウンロード"
      ],
      "metadata": {
        "id": "Ou61ScoKS79H"
      }
    },
    {
      "cell_type": "code",
      "execution_count": null,
      "metadata": {
        "colab": {
          "base_uri": "https://localhost:8080/"
        },
        "id": "YUj0878jPyz7",
        "outputId": "943ef2d3-efe5-422a-8014-d3dd6b4e79b6"
      },
      "outputs": [
        {
          "output_type": "stream",
          "name": "stdout",
          "text": [
            "elasticsearch-oss-7.9.2-linux-x86_64.tar.gz: OK\n"
          ]
        }
      ],
      "source": [
        "%%bash\n",
        "\n",
        "wget -q https://artifacts.elastic.co/downloads/elasticsearch/elasticsearch-oss-7.9.2-linux-x86_64.tar.gz\n",
        "wget -q https://artifacts.elastic.co/downloads/elasticsearch/elasticsearch-oss-7.9.2-linux-x86_64.tar.gz.sha512\n",
        "tar -xzf elasticsearch-oss-7.9.2-linux-x86_64.tar.gz\n",
        "sudo chown -R daemon:daemon elasticsearch-7.9.2/\n",
        "shasum -a 512 -c elasticsearch-oss-7.9.2-linux-x86_64.tar.gz.sha512 "
      ]
    },
    {
      "cell_type": "markdown",
      "source": [
        "### Kuromojiのインストール"
      ],
      "metadata": {
        "id": "5RlK9XzgTV-d"
      }
    },
    {
      "cell_type": "markdown",
      "source": [
        "Kuromojiを導入しま、、、せん。\n",
        "\n",
        "今回は他と揃えるため、ngramを使うことにします。\n",
        "\n",
        "\n",
        "\n",
        "\n"
      ],
      "metadata": {
        "id": "SNenFphWUPOd"
      }
    },
    {
      "cell_type": "code",
      "execution_count": null,
      "metadata": {
        "id": "TtO38XPgt__Z"
      },
      "outputs": [],
      "source": [
        "#!sudo elasticsearch-7.9.2/bin/elasticsearch-plugin install analysis-kuromoji"
      ]
    },
    {
      "cell_type": "markdown",
      "source": [
        "## Elasticsearchの起動"
      ],
      "metadata": {
        "id": "E5AlpbP3Ta26"
      }
    },
    {
      "cell_type": "markdown",
      "source": [
        "バックグラウンドでElasticsearchを起動します。"
      ],
      "metadata": {
        "id": "H7cgTxJkW3vT"
      }
    },
    {
      "cell_type": "code",
      "execution_count": null,
      "metadata": {
        "colab": {
          "base_uri": "https://localhost:8080/"
        },
        "id": "n9ujlunrWgRx",
        "outputId": "56a260bd-22ab-49b4-94eb-733345820f37"
      },
      "outputs": [
        {
          "output_type": "stream",
          "name": "stdout",
          "text": [
            "Starting job # 0 in a separate thread.\n"
          ]
        }
      ],
      "source": [
        "%%bash --bg\n",
        "\n",
        "sudo -H -u daemon elasticsearch-7.9.2/bin/elasticsearch"
      ]
    },
    {
      "cell_type": "markdown",
      "source": [
        "起動を少し待ちます。"
      ],
      "metadata": {
        "id": "S-xR1qqXW9_N"
      }
    },
    {
      "cell_type": "code",
      "execution_count": null,
      "metadata": {
        "id": "APtjRSSMQOhO"
      },
      "outputs": [],
      "source": [
        "import time\n",
        "# Sleep for few seconds to let the instance start.\n",
        "time.sleep(20)"
      ]
    },
    {
      "cell_type": "markdown",
      "source": [
        "プロセスを確認します。"
      ],
      "metadata": {
        "id": "DRGcUfKvXBw2"
      }
    },
    {
      "cell_type": "code",
      "execution_count": null,
      "metadata": {
        "colab": {
          "base_uri": "https://localhost:8080/"
        },
        "id": "48LqMJ1BEHm5",
        "outputId": "71b238a1-3c48-4bd1-8d33-8b9557401214"
      },
      "outputs": [
        {
          "output_type": "stream",
          "name": "stdout",
          "text": [
            "root         282     280  0 21:46 ?        00:00:00 sudo -H -u daemon elasticsearch-7.9.2/bin/elasticsearch\n",
            "daemon       283     282 99 21:46 ?        00:00:19 /content/elasticsearch-7.9.2/jdk/bin/java -Xshare:auto -Des.networkaddress.cache.ttl=60 -Des.networkaddress.cache.negative.ttl=10 -XX:+AlwaysPreTouch -Xss1m -Djava.awt.headless=true -Dfile.encoding=UTF-8 -Djna.nosys=true -XX:-OmitStackTraceInFastThrow -XX:+ShowCodeDetailsInExceptionMessages -Dio.netty.noUnsafe=true -Dio.netty.noKeySetOptimization=true -Dio.netty.recycler.maxCapacityPerThread=0 -Dio.netty.allocator.numDirectArenas=0 -Dlog4j.shutdownHookEnabled=false -Dlog4j2.disable.jmx=true -Djava.locale.providers=SPI,COMPAT -Xms1g -Xmx1g -XX:+UseG1GC -XX:G1ReservePercent=25 -XX:InitiatingHeapOccupancyPercent=30 -Djava.io.tmpdir=/tmp/elasticsearch-4888719369848925463 -XX:+HeapDumpOnOutOfMemoryError -XX:HeapDumpPath=data -XX:ErrorFile=logs/hs_err_pid%p.log -Xlog:gc*,gc+age=trace,safepoint:file=logs/gc.log:utctime,pid,tags:filecount=32,filesize=64m -XX:MaxDirectMemorySize=536870912 -Des.path.home=/content/elasticsearch-7.9.2 -Des.path.conf=/content/elasticsearch-7.9.2/config -Des.distribution.flavor=oss -Des.distribution.type=tar -Des.bundled_jdk=true -cp /content/elasticsearch-7.9.2/lib/* org.elasticsearch.bootstrap.Elasticsearch\n"
          ]
        }
      ],
      "source": [
        "!ps -ef | grep elasticsearch | grep -v grep"
      ]
    },
    {
      "cell_type": "markdown",
      "source": [
        "動作を確認します。"
      ],
      "metadata": {
        "id": "JtYSS0HiXGih"
      }
    },
    {
      "cell_type": "code",
      "execution_count": null,
      "metadata": {
        "colab": {
          "base_uri": "https://localhost:8080/"
        },
        "id": "ILyohKWQ_XQS",
        "outputId": "ec396715-7c0b-45a5-e71a-cd39e49c87ef"
      },
      "outputs": [
        {
          "output_type": "stream",
          "name": "stdout",
          "text": [
            "{\n",
            "  \"name\" : \"c1190554431f\",\n",
            "  \"cluster_name\" : \"elasticsearch\",\n",
            "  \"cluster_uuid\" : \"ZogVcve2S2C1AlDmu8GWtA\",\n",
            "  \"version\" : {\n",
            "    \"number\" : \"7.9.2\",\n",
            "    \"build_flavor\" : \"oss\",\n",
            "    \"build_type\" : \"tar\",\n",
            "    \"build_hash\" : \"d34da0ea4a966c4e49417f2da2f244e3e97b4e6e\",\n",
            "    \"build_date\" : \"2020-09-23T00:45:33.626720Z\",\n",
            "    \"build_snapshot\" : false,\n",
            "    \"lucene_version\" : \"8.6.2\",\n",
            "    \"minimum_wire_compatibility_version\" : \"6.8.0\",\n",
            "    \"minimum_index_compatibility_version\" : \"6.0.0-beta1\"\n",
            "  },\n",
            "  \"tagline\" : \"You Know, for Search\"\n",
            "}\n"
          ]
        }
      ],
      "source": [
        "!curl -sX GET \"localhost:9200/\""
      ]
    },
    {
      "cell_type": "markdown",
      "source": [
        "## Pythonライブラリのインストール"
      ],
      "metadata": {
        "id": "j0WFn46lTswk"
      }
    },
    {
      "cell_type": "code",
      "execution_count": null,
      "metadata": {
        "colab": {
          "base_uri": "https://localhost:8080/"
        },
        "id": "UgxWis_ueohg",
        "outputId": "9f295692-be83-46b2-843e-5173f6e39f2c"
      },
      "outputs": [
        {
          "output_type": "stream",
          "name": "stdout",
          "text": [
            "Collecting elasticsearch==7.9.1\n",
            "  Downloading elasticsearch-7.9.1-py2.py3-none-any.whl (219 kB)\n",
            "\u001b[?25l\r\u001b[K     |█▌                              | 10 kB 22.7 MB/s eta 0:00:01\r\u001b[K     |███                             | 20 kB 28.7 MB/s eta 0:00:01\r\u001b[K     |████▌                           | 30 kB 14.2 MB/s eta 0:00:01\r\u001b[K     |██████                          | 40 kB 10.6 MB/s eta 0:00:01\r\u001b[K     |███████▌                        | 51 kB 6.0 MB/s eta 0:00:01\r\u001b[K     |█████████                       | 61 kB 7.0 MB/s eta 0:00:01\r\u001b[K     |██████████▌                     | 71 kB 7.6 MB/s eta 0:00:01\r\u001b[K     |████████████                    | 81 kB 6.9 MB/s eta 0:00:01\r\u001b[K     |█████████████▌                  | 92 kB 7.6 MB/s eta 0:00:01\r\u001b[K     |███████████████                 | 102 kB 6.9 MB/s eta 0:00:01\r\u001b[K     |████████████████▌               | 112 kB 6.9 MB/s eta 0:00:01\r\u001b[K     |██████████████████              | 122 kB 6.9 MB/s eta 0:00:01\r\u001b[K     |███████████████████▍            | 133 kB 6.9 MB/s eta 0:00:01\r\u001b[K     |█████████████████████           | 143 kB 6.9 MB/s eta 0:00:01\r\u001b[K     |██████████████████████▍         | 153 kB 6.9 MB/s eta 0:00:01\r\u001b[K     |████████████████████████        | 163 kB 6.9 MB/s eta 0:00:01\r\u001b[K     |█████████████████████████▍      | 174 kB 6.9 MB/s eta 0:00:01\r\u001b[K     |███████████████████████████     | 184 kB 6.9 MB/s eta 0:00:01\r\u001b[K     |████████████████████████████▍   | 194 kB 6.9 MB/s eta 0:00:01\r\u001b[K     |██████████████████████████████  | 204 kB 6.9 MB/s eta 0:00:01\r\u001b[K     |███████████████████████████████▍| 215 kB 6.9 MB/s eta 0:00:01\r\u001b[K     |████████████████████████████████| 219 kB 6.9 MB/s \n",
            "\u001b[?25hRequirement already satisfied: urllib3>=1.21.1 in /usr/local/lib/python3.7/dist-packages (from elasticsearch==7.9.1) (1.24.3)\n",
            "Requirement already satisfied: certifi in /usr/local/lib/python3.7/dist-packages (from elasticsearch==7.9.1) (2021.10.8)\n",
            "Installing collected packages: elasticsearch\n",
            "Successfully installed elasticsearch-7.9.1\n"
          ]
        }
      ],
      "source": [
        "!pip install elasticsearch==7.9.1"
      ]
    },
    {
      "cell_type": "markdown",
      "source": [
        "## データのインポート\n",
        "\n",
        "データを50万件インポートします。"
      ],
      "metadata": {
        "id": "6JW-Ud7VT6df"
      }
    },
    {
      "cell_type": "code",
      "execution_count": null,
      "metadata": {
        "colab": {
          "base_uri": "https://localhost:8080/",
          "height": 104,
          "referenced_widgets": [
            "d51dc95611a547a68039fce9b8b4e490",
            "e5a186807522405d8b43885d965dc757",
            "f578f6fbff874deea902f197fed77352",
            "1862115a7c904a8eb5f81527a4cf7f57",
            "d7dc745c5d8a4e37a1b3d0f62d8e455c",
            "e7f09cf9c654409080ceb3b6cb5043df",
            "6d1c3eb1cf2e4dd39a0ba9fa769ed923",
            "8b8f275111514b8c8ed931489b997af7",
            "9402c565a85a4daab7d5b09ab3b3af94",
            "afd29d234ef845448b78340674c09a8e",
            "28f3d107e6ba42eb907d961708390403"
          ]
        },
        "id": "JXaEuzvHagdP",
        "outputId": "21890642-88f1-4b01-c425-f4fb7817f6f9"
      },
      "outputs": [
        {
          "output_type": "stream",
          "name": "stdout",
          "text": [
            "creating the 'wiki_jp' index.\n",
            "Response from server: {'acknowledged': True, 'shards_acknowledged': True, 'index': 'wiki_jp'}\n",
            "{'wiki_jp': {'mappings': {'properties': {'body': {'type': 'text', 'analyzer': 'ja_ngram_index_analyzer', 'search_analyzer': 'ja_ngram_search_analyzer'}, 'title': {'type': 'keyword'}}}}}\n"
          ]
        },
        {
          "output_type": "display_data",
          "data": {
            "text/plain": [
              "  0%|          | 0/750000.0 [00:00<?, ?it/s]"
            ],
            "application/vnd.jupyter.widget-view+json": {
              "version_major": 2,
              "version_minor": 0,
              "model_id": "d51dc95611a547a68039fce9b8b4e490"
            }
          },
          "metadata": {}
        }
      ],
      "source": [
        "import json\n",
        "import bz2\n",
        "from tqdm.notebook import tqdm\n",
        "from elasticsearch import Elasticsearch, helpers\n",
        "\n",
        "es = Elasticsearch([\"http://localhost:9200\"])\n",
        "index_name = 'wiki_jp'\n",
        "if es.indices.exists(index=index_name):\n",
        "    res = es.indices.delete(index=index_name)\n",
        "    print(\"Response from server: {}\".format(res))\n",
        "print(\"creating the '{}' index.\".format(index_name))\n",
        "\n",
        "index_body = {\n",
        "    \"settings\": {\n",
        "        \"max_result_window\": 50000,\n",
        "        \"analysis\": {\n",
        "            \"tokenizer\": {\n",
        "                \"ja_ngram_tokenizer\": {\n",
        "                    \"type\": \"ngram\",\n",
        "                    \"min_gram\": 2,\n",
        "                    \"max_gram\": 2,\n",
        "                    \"token_chars\": [\n",
        "                        \"letter\",\n",
        "                        \"digit\"\n",
        "                    ],\n",
        "                },\n",
        "            },\n",
        "            \"analyzer\": {\n",
        "                \"ja_ngram_index_analyzer\": {\n",
        "                    \"type\": \"custom\",\n",
        "                    \"char_filter\": [\n",
        "                        \"html_strip\"\n",
        "                    ],\n",
        "                    \"tokenizer\": \"ja_ngram_tokenizer\",\n",
        "                    \"filter\": [\n",
        "                        \"lowercase\"\n",
        "                    ]\n",
        "                },\n",
        "                \"ja_ngram_search_analyzer\": {\n",
        "                    \"type\": \"custom\",\n",
        "                    \"char_filter\": [\n",
        "                        \"html_strip\"\n",
        "                    ],\n",
        "                    \"tokenizer\": \"ja_ngram_tokenizer\",\n",
        "                    \"filter\": [\n",
        "                        \"lowercase\"\n",
        "                    ]\n",
        "                }\n",
        "            }\n",
        "        }\n",
        "    },\n",
        "    \"mappings\": {\n",
        "        \"properties\": {\n",
        "            \"title\": {\"type\": \"keyword\"},\n",
        "            \"body\": {\"type\": \"text\",\n",
        "                     \"search_analyzer\": \"ja_ngram_search_analyzer\",\n",
        "                     \"analyzer\": \"ja_ngram_index_analyzer\"}\n",
        "        }\n",
        "    }\n",
        "}\n",
        "\n",
        "res = es.indices.create(index=index_name, body=index_body)\n",
        "print(\"Response from server: {}\".format(res))\n",
        "print(es.indices.get_mapping(index=index_name))\n",
        "\n",
        "limit = 500000\n",
        "def gendata():\n",
        "    with bz2.open('/content/drive/MyDrive/wiki.json.bz2', 'rt', encoding=\"utf-8\") as fin:\n",
        "        n = 0\n",
        "        for line in tqdm(fin, total=limit*1.5):\n",
        "            data = json.loads(line)\n",
        "            title = data['title'].strip()\n",
        "            body = data['text'].replace('\\n', '')\n",
        "            if len(title) > 0 and len(body) > 0:\n",
        "                n += 1\n",
        "                yield {\n",
        "                    \"_op_type\": \"create\",\n",
        "                    \"_index\": index_name,\n",
        "                    \"_source\": {\"title\": title, \"body\": body}\n",
        "                }\n",
        "            if n == limit:\n",
        "                break\n",
        "\n",
        "helpers.bulk(es, gendata())\n",
        "es.close()"
      ]
    },
    {
      "cell_type": "markdown",
      "source": [
        "登録件数を確認します。"
      ],
      "metadata": {
        "id": "iceyIe35U9Tl"
      }
    },
    {
      "cell_type": "code",
      "source": [
        "!curl -XGET 'http://localhost:9200/wiki_jp/_count'"
      ],
      "metadata": {
        "colab": {
          "base_uri": "https://localhost:8080/"
        },
        "id": "9ALihU5qVGzz",
        "outputId": "605ddb22-b9a9-498d-e37f-6f665b4efdfc"
      },
      "execution_count": null,
      "outputs": [
        {
          "output_type": "stream",
          "name": "stdout",
          "text": [
            "{\"count\":500000,\"_shards\":{\"total\":1,\"successful\":1,\"skipped\":0,\"failed\":0}}"
          ]
        }
      ]
    },
    {
      "cell_type": "markdown",
      "source": [
        "## Pythonで検索"
      ],
      "metadata": {
        "id": "ry-7lXIfVNlu"
      }
    },
    {
      "cell_type": "markdown",
      "source": [
        "インデックスなしでの検索方法は分からなかったので、インデックスありの検索、1回目です。"
      ],
      "metadata": {
        "id": "523Aty4EXlFa"
      }
    },
    {
      "cell_type": "code",
      "execution_count": null,
      "metadata": {
        "colab": {
          "base_uri": "https://localhost:8080/"
        },
        "id": "1Sw8UrN-D20N",
        "outputId": "bf3aa0c8-9fc9-4d86-f07a-45efebdab762"
      },
      "outputs": [
        {
          "output_type": "stream",
          "name": "stdout",
          "text": [
            "7.48 sec\n"
          ]
        }
      ],
      "source": [
        "import time\n",
        "from elasticsearch import Elasticsearch, helpers\n",
        "\n",
        "es = Elasticsearch([\"http://localhost:9200\"])\n",
        "index_name = 'wiki_jp'\n",
        "query = {\"query\" : {\"match_phrase\" : {\"body\" : \"日本語\"}}, \"profile\": \"true\"}\n",
        "start_time = time.perf_counter()\n",
        "results = es.search(index=index_name, body=query, size=20000)\n",
        "print(\"{:.2f} sec\".format(time.perf_counter() - start_time))\n",
        "es.close()"
      ]
    },
    {
      "cell_type": "markdown",
      "source": [
        "MySQLやPostgresSQLと同等です。"
      ],
      "metadata": {
        "id": "0uCLGveFZOGr"
      }
    },
    {
      "cell_type": "markdown",
      "source": [
        "結果の転送を含まない内部での検索時間は以下で取得できます。"
      ],
      "metadata": {
        "id": "Hnuwu0Kqaf73"
      }
    },
    {
      "cell_type": "code",
      "execution_count": null,
      "metadata": {
        "colab": {
          "base_uri": "https://localhost:8080/"
        },
        "id": "yNYfUCwQ0Co9",
        "outputId": "0629f2a8-f9db-4ac6-ce79-d54a8db32454"
      },
      "outputs": [
        {
          "output_type": "stream",
          "name": "stdout",
          "text": [
            "0.08 sec\n"
          ]
        }
      ],
      "source": [
        "time_in_nanos = results['profile']['shards'][0]['searches'][0]['query'][0]['time_in_nanos']\n",
        "print('{:.2f} sec'.format(time_in_nanos / 1_000_000_000))"
      ]
    },
    {
      "cell_type": "markdown",
      "source": [
        "結果の転送に大部分の時間がかかっているようです。"
      ],
      "metadata": {
        "id": "WQR9eQqJd2a6"
      }
    },
    {
      "cell_type": "markdown",
      "source": [
        "検索件数を確認します。"
      ],
      "metadata": {
        "id": "Vs1f0RKVYQKr"
      }
    },
    {
      "cell_type": "code",
      "source": [
        "len(results['hits']['hits'])"
      ],
      "metadata": {
        "colab": {
          "base_uri": "https://localhost:8080/"
        },
        "id": "aWrBaCma4NzL",
        "outputId": "de7df403-4bde-4ca8-ecb0-430bb0c1b5aa"
      },
      "execution_count": null,
      "outputs": [
        {
          "output_type": "execute_result",
          "data": {
            "text/plain": [
              "17006"
            ]
          },
          "metadata": {},
          "execution_count": 15
        }
      ]
    },
    {
      "cell_type": "markdown",
      "source": [
        "他の結果と合っています。"
      ],
      "metadata": {
        "id": "3BL_ninyYbrB"
      }
    },
    {
      "cell_type": "markdown",
      "source": [
        "2回目"
      ],
      "metadata": {
        "id": "nQI3YpsRX0L0"
      }
    },
    {
      "cell_type": "code",
      "source": [
        "es = Elasticsearch([\"http://localhost:9200\"])\n",
        "index_name = 'wiki_jp'\n",
        "query = {\"query\" : {\"match_phrase\" : {\"body\" : \"日本語\"}}, \"profile\": \"true\"}\n",
        "start_time = time.perf_counter()\n",
        "results = es.search(index=index_name, body=query, size=20000)\n",
        "print(\"{:.2f} sec\".format(time.perf_counter() - start_time))\n",
        "es.close()"
      ],
      "metadata": {
        "colab": {
          "base_uri": "https://localhost:8080/"
        },
        "id": "09eC7DdmmR7L",
        "outputId": "7a006fd1-6c3a-4086-acc6-15fc5e9dfadd"
      },
      "execution_count": null,
      "outputs": [
        {
          "output_type": "stream",
          "name": "stdout",
          "text": [
            "3.99 sec\n"
          ]
        }
      ]
    },
    {
      "cell_type": "code",
      "source": [
        "time_in_nanos = results['profile']['shards'][0]['searches'][0]['query'][0]['time_in_nanos']\n",
        "print('{:.2f} sec'.format(time_in_nanos / 1_000_000_000))"
      ],
      "metadata": {
        "colab": {
          "base_uri": "https://localhost:8080/"
        },
        "id": "P-uKOPfembQe",
        "outputId": "ce007066-2d61-426a-a76f-447b325d4ddf"
      },
      "execution_count": null,
      "outputs": [
        {
          "output_type": "stream",
          "name": "stdout",
          "text": [
            "0.12 sec\n"
          ]
        }
      ]
    },
    {
      "cell_type": "markdown",
      "source": [
        "キャッシュが効いています。"
      ],
      "metadata": {
        "id": "7Xohs0SVazPn"
      }
    },
    {
      "cell_type": "markdown",
      "source": [
        "取得結果のひとつを確認します。"
      ],
      "metadata": {
        "id": "eyl2gjROcSxP"
      }
    },
    {
      "cell_type": "code",
      "source": [
        "results['hits']['hits'][0]"
      ],
      "metadata": {
        "colab": {
          "base_uri": "https://localhost:8080/"
        },
        "id": "hWf4Db_McPzy",
        "outputId": "2becf27a-7630-454c-c928-be90fea5656e"
      },
      "execution_count": null,
      "outputs": [
        {
          "output_type": "execute_result",
          "data": {
            "text/plain": [
              "{'_id': 'mFpPd4ABdhv1sUEQXV1x',\n",
              " '_index': 'wiki_jp',\n",
              " '_score': 9.08582,\n",
              " '_source': {'body': '日本語教育（にほんごきょういく）とは、外国語としての日本語、第二言語としての日本語についての教育の総称である。概要.日本語教育とは通常、日本語を母語としない人（主に外国人）に対し、日本国内外で、日本語を指導することを指す。ただし、日本語を母語とする人を対象とする「国語教育」を「日本語教育」と表す場合 もある。日本国外での日本語教育は126カ国・7地域で行われており、学習者は約300万人である。日本国内での日本語教育は、大学等の高等教育機関や日本語教育機関（主に日本語学校）の他、地域の日本語教室などで行われており、学習者は、成人が約166,000人、児童生徒約28,000人 と報告されている。また、日本語教育全般を取り扱う研究分野を「日本語教育学」と呼び、教育学の一分野として位置づけられる。日本語教育の歴史.明治以降第二次世界大戦まで.日本国内.1880年代前半より朝鮮からの留学生が増え、慶應義塾や陸軍戸山学校が受け入れ、1892年には文部省が「外国人留学規定」を制定した。1895年の日清戦争での日本の勝利により、日本統治となった台湾で日本語教育が始まったほか、近代化の必要性を自覚した清国から日本への留学生が増え、日本語教育の需要が急速に高まりはじめた。1898年には成城学校が清国陸軍留学生に日本語教育を開始したほか、高楠順次郎が清国人留学生の日本語教育のために東京本郷に日華学堂を設立、翌1899年には嘉納治五郎が清国からの国費留学生の受け入れ校として亦楽書院（のちの宏文学院）を設立、そのほか、第一高等学校、学習院、実践女学校などでも清国人留学生への日本語教育が始まり、留学生の急増により1904年には明治大学、法政大学に日本語を速成教育する専門科が新設された。1905年に日露戦争で日本が勝利したことにより、日本への留学熱は最高潮となり、同年の留学生は清国人だけでも8000人にのぼったが、教育法には不備も多く、辞書や教科書等の整備も始まった。清国での日本語教育も盛んになり、1907年には京師法政学堂（現・北京大学）でも日文教育が始まった。また、1907-08年にはベトナムから留学生300名が来日した（東遊運動）。清国人留学生は母国で革命の気運が高まると帰国者が相次いだが、1911年の辛亥革命以降、新生中華民国からの留学生が続々と来日し、中国人の日本留学ブームは1937年の日中戦争直前まで続いた。台湾からの留学生は1901年頃から増え、1922年には2400名以上を数えた。1935年に外務省文化事業部により「国際学友会」が設立され、中国を除く世界各地からの留学生の受入れを担当した。第二次世界大戦が始まると欧米などからの留学生は事実上途絶えたが、1943・1944年度は、大東亜省の指示により東南アジア諸地域より「南方特別留学生」が招かれた。第二次世界大戦後以降.バブル期の1985-86年ごろには、就学生相手に一商売をもくろんだ「日本語学校」が乱立し、社会問題化した。日本国内における日本語教育.日本国内における日本語教育実施機関・施設等で学ぶ日本語学習者数は、2015年（平成27年）11月現在、19万人に達している。これら留学生の所属別では、法務省告示機関（いわゆる日本語学校）が最も多く約7万人、大学等機関が約5万人、国際交流協会が約3万人、地方公共団体および教育委員会がそれぞれ約1万人となっている。また、在住外国人のために各地の地方自治体やNPOがボランティア教師による日本語講座や日本語教室を開催している。対象者は中国残留日本人孤児帰国者や日系人、国際結婚により来住した外国人女性などが多い。在住外国人増加につれ、同伴されてきたり日本で生まれたりした、日本語が母語ではない子どもたちが地域の小・中学校等に在籍することが増えてきている。また、海外で生まれ育ったために日本語指導が必要な日本人児童生徒も存在している。日本語指導が必要な外国人児童生徒は平成26年度で約29,000人、同じく日本人児童生徒は約8,000人にのぼり、うち約 75%が小学校に在籍していると報告されている。このような児童が多数在籍する学校には日本語指導を行う教員を加配する措置がある。少数在籍の学校では、ボランティア指導員が派遣される場合もある一方、全く日本語指導を受けられない場合もある。母語が確立していないこと、教科学習を行わなければならないことなど、子どもたちへの日本語教育は留学生や成人への日本語教育と異なる条件があるため、「年少者日本語教育」と呼ばれることもある。日本国外における日本語教育.世界全体の日本語学習者数は2015年（平成27年）現在で約365万人である。日本語は中国語と並んでアジアの主要な言語であり、日本国外の主要な大学には日本語学科が設置され、日本語を第二外国語として教える学校も多い。さらにオーストラリア、ベトナム、フランスなどでは初等・中等教育でも日本語教育が行われており、学習者数は格段に増加する。韓国の高校では日本語が第二外国語の一つになっており、中国語の次に履修率も高く、大学などでの履修者も含めると世界最大の日本語学習国であったが、2011年の中等教育の教育課程改定において第二外国語が必修科目から外されたこと、少子化が加速していることから、日本語学習者は漸減し続けている。中国の日本語教育は大学が中心だが、人口が多いので日本語学習者総数は95万人に達し、最大の日本語学習国となっている。日本語教育文法.日本語教育文法は、日本の公立学校で教わる学校文法とは、その内容を異にする。下記はその一例である。教授法.学習者にとって日本語は外国語（あるいは第二言語）であるので、指導に際しては外国語教授法が用いられる。言語学や学習理論、変形文法、認知学習理論、第二言語習得理論など様々な理論に基づいている。',\n",
              "  'title': '日本語教育'},\n",
              " '_type': '_doc'}"
            ]
          },
          "metadata": {},
          "execution_count": 35
        }
      ]
    },
    {
      "cell_type": "markdown",
      "source": [
        "次に、取得するフィールドをtitleのみに限定してみます。"
      ],
      "metadata": {
        "id": "Dqx2yQvvbe2b"
      }
    },
    {
      "cell_type": "code",
      "source": [
        "es = Elasticsearch([\"http://localhost:9200\"])\n",
        "index_name = 'wiki_jp'\n",
        "query = {\"query\" : {\"match_phrase\" : {\"body\" : \"日本語\"}}, \"_source\" : [\"title\"], \"profile\": \"true\"}\n",
        "start_time = time.perf_counter()\n",
        "results = es.search(index=index_name, body=query, size=20000)\n",
        "print(\"{:.2f} sec\".format(time.perf_counter() - start_time))\n",
        "es.close()\n",
        "time_in_nanos = results['profile']['shards'][0]['searches'][0]['query'][0]['time_in_nanos']\n",
        "print('{:.2f} sec'.format(time_in_nanos / 1_000_000_000))\n",
        "results['hits']['hits'][0]"
      ],
      "metadata": {
        "colab": {
          "base_uri": "https://localhost:8080/"
        },
        "id": "vUNlLHqGZ8Q5",
        "outputId": "4543ab7f-445b-4eee-81fb-d762cd25ac4b"
      },
      "execution_count": null,
      "outputs": [
        {
          "output_type": "stream",
          "name": "stdout",
          "text": [
            "2.95 sec\n",
            "0.02 sec\n"
          ]
        },
        {
          "output_type": "execute_result",
          "data": {
            "text/plain": [
              "{'_id': 'mFpPd4ABdhv1sUEQXV1x',\n",
              " '_index': 'wiki_jp',\n",
              " '_score': 9.08582,\n",
              " '_source': {'title': '日本語教育'},\n",
              " '_type': '_doc'}"
            ]
          },
          "metadata": {},
          "execution_count": 36
        }
      ]
    },
    {
      "cell_type": "markdown",
      "source": [
        "テキストの生成／転送が少ない分だけ時間が短くなっています。\n"
      ],
      "metadata": {
        "id": "G5u2ZGZLbmH4"
      }
    },
    {
      "cell_type": "markdown",
      "source": [
        "本当にtitleだけを取得しているのか確認してみましょう。"
      ],
      "metadata": {
        "id": "IHIN5epxb1to"
      }
    },
    {
      "cell_type": "code",
      "source": [
        "results['hits']['hits'][0]"
      ],
      "metadata": {
        "colab": {
          "base_uri": "https://localhost:8080/"
        },
        "id": "JdfN1lCMbLDb",
        "outputId": "2f31b1cd-a852-4f29-e841-2f96a135dac7"
      },
      "execution_count": null,
      "outputs": [
        {
          "output_type": "execute_result",
          "data": {
            "text/plain": [
              "{'_id': 'mFpPd4ABdhv1sUEQXV1x',\n",
              " '_index': 'wiki_jp',\n",
              " '_score': 9.08582,\n",
              " '_source': {'title': '日本語教育'},\n",
              " '_type': '_doc'}"
            ]
          },
          "metadata": {},
          "execution_count": 37
        }
      ]
    },
    {
      "cell_type": "markdown",
      "source": [
        "取得しているのはタイトルだけですね。"
      ],
      "metadata": {
        "id": "CyoYGfdYb-Kt"
      }
    },
    {
      "cell_type": "markdown",
      "source": [
        "フィールドを取得しないで検索してみます。"
      ],
      "metadata": {
        "id": "o3mtzwvKWpo3"
      }
    },
    {
      "cell_type": "code",
      "source": [
        "es = Elasticsearch([\"http://localhost:9200\"])\n",
        "index_name = 'wiki_jp'\n",
        "query = {\"query\" : {\"match_phrase\" : {\"body\" : \"日本語\"}}, \"_source\" : [\"\"], \"profile\": \"true\"}\n",
        "start_time = time.perf_counter()\n",
        "results = es.search(index=index_name, body=query, size=20000)\n",
        "print(\"{:.2f} sec\".format(time.perf_counter() - start_time))\n",
        "es.close()\n",
        "time_in_nanos = results['profile']['shards'][0]['searches'][0]['query'][0]['time_in_nanos']\n",
        "print('{:.2f} sec'.format(time_in_nanos / 1_000_000_000))\n",
        "results['hits']['hits'][0]"
      ],
      "metadata": {
        "colab": {
          "base_uri": "https://localhost:8080/"
        },
        "id": "F8ll_eQ2R_-F",
        "outputId": "288d2d54-08f6-4a44-aeea-dafdd49b9e2b"
      },
      "execution_count": null,
      "outputs": [
        {
          "output_type": "stream",
          "name": "stdout",
          "text": [
            "2.91 sec\n",
            "0.02 sec\n"
          ]
        },
        {
          "output_type": "execute_result",
          "data": {
            "text/plain": [
              "{'_id': 'mFpPd4ABdhv1sUEQXV1x',\n",
              " '_index': 'wiki_jp',\n",
              " '_score': 9.08582,\n",
              " '_source': {},\n",
              " '_type': '_doc'}"
            ]
          },
          "metadata": {},
          "execution_count": 41
        }
      ]
    },
    {
      "cell_type": "markdown",
      "source": [
        "タイトルだけでも十分短いためか、ほぼ変わりません。"
      ],
      "metadata": {
        "id": "AfcVp_FMW6xd"
      }
    },
    {
      "cell_type": "markdown",
      "source": [
        "## curlで検索"
      ],
      "metadata": {
        "id": "Fbjta5vzecO1"
      }
    },
    {
      "cell_type": "markdown",
      "source": [
        "ElasticSearchはREST APIとしてもアクセスできるので、curlを使って検索してみましょう。"
      ],
      "metadata": {
        "id": "T6dRLv_Ln6BF"
      }
    },
    {
      "cell_type": "code",
      "execution_count": null,
      "metadata": {
        "colab": {
          "base_uri": "https://localhost:8080/"
        },
        "id": "mmekgLblRbKD",
        "outputId": "6b0e3484-a82d-44d5-fefa-df1edb09b2dd"
      },
      "outputs": [
        {
          "output_type": "stream",
          "name": "stdout",
          "text": [
            "  % Total    % Received % Xferd  Average Speed   Time    Time     Time  Current\n",
            "                                 Dload  Upload   Total   Spent    Left  Speed\n",
            "100  166M  100  166M  100    65  37.2M     14  0:00:04  0:00:04 --:--:-- 39.0M\n",
            "CPU times: user 68 ms, sys: 30.1 ms, total: 98.1 ms\n",
            "Wall time: 4.61 s\n"
          ]
        }
      ],
      "source": [
        "%%time\n",
        "!curl -XGET 'http://localhost:9200/wiki_jp/_search?pretty' -H 'Content-Type: application/json' -d '{\"query\": {\"match_phrase\": { \"body\": \"日本語\"}}, \"size\":20000}' > result"
      ]
    },
    {
      "cell_type": "markdown",
      "source": [
        "すでにキャッシュが効いているようです。PythonのAPIとほぼ同じです。\n",
        "\n",
        "ちゃんと検索できているか内容を確認します。"
      ],
      "metadata": {
        "id": "JvXplZIeoMm5"
      }
    },
    {
      "cell_type": "code",
      "source": [
        "import json\n",
        "with open('result') as fin:\n",
        "    results = json.load(fin)\n",
        "print(len(results['hits']['hits']))\n",
        "results['hits']['hits'][0]"
      ],
      "metadata": {
        "colab": {
          "base_uri": "https://localhost:8080/"
        },
        "id": "AaCPrnwMPyY6",
        "outputId": "39c9bf2e-42b1-4b82-9fcb-1eefa6d40e9d"
      },
      "execution_count": null,
      "outputs": [
        {
          "output_type": "stream",
          "name": "stdout",
          "text": [
            "17006\n"
          ]
        },
        {
          "output_type": "execute_result",
          "data": {
            "text/plain": [
              "{'_id': 'mFpPd4ABdhv1sUEQXV1x',\n",
              " '_index': 'wiki_jp',\n",
              " '_score': 9.08582,\n",
              " '_source': {'body': '日本語教育（にほんごきょういく）とは、外国語としての日本語、第二言語としての日本語についての教育の総称である。概要.日本語教育とは通常、日本語を母語としない人（主に外国人）に対し、日本国内外で、日本語を指導することを指す。ただし、日本語を母語とする人を対象とする「国語教育」を「日本語教育」と表す場合 もある。日本国外での日本語教育は126カ国・7地域で行われており、学習者は約300万人である。日本国内での日本語教育は、大学等の高等教育機関や日本語教育機関（主に日本語学校）の他、地域の日本語教室などで行われており、学習者は、成人が約166,000人、児童生徒約28,000人 と報告されている。また、日本語教育全般を取り扱う研究分野を「日本語教育学」と呼び、教育学の一分野として位置づけられる。日本語教育の歴史.明治以降第二次世界大戦まで.日本国内.1880年代前半より朝鮮からの留学生が増え、慶應義塾や陸軍戸山学校が受け入れ、1892年には文部省が「外国人留学規定」を制定した。1895年の日清戦争での日本の勝利により、日本統治となった台湾で日本語教育が始まったほか、近代化の必要性を自覚した清国から日本への留学生が増え、日本語教育の需要が急速に高まりはじめた。1898年には成城学校が清国陸軍留学生に日本語教育を開始したほか、高楠順次郎が清国人留学生の日本語教育のために東京本郷に日華学堂を設立、翌1899年には嘉納治五郎が清国からの国費留学生の受け入れ校として亦楽書院（のちの宏文学院）を設立、そのほか、第一高等学校、学習院、実践女学校などでも清国人留学生への日本語教育が始まり、留学生の急増により1904年には明治大学、法政大学に日本語を速成教育する専門科が新設された。1905年に日露戦争で日本が勝利したことにより、日本への留学熱は最高潮となり、同年の留学生は清国人だけでも8000人にのぼったが、教育法には不備も多く、辞書や教科書等の整備も始まった。清国での日本語教育も盛んになり、1907年には京師法政学堂（現・北京大学）でも日文教育が始まった。また、1907-08年にはベトナムから留学生300名が来日した（東遊運動）。清国人留学生は母国で革命の気運が高まると帰国者が相次いだが、1911年の辛亥革命以降、新生中華民国からの留学生が続々と来日し、中国人の日本留学ブームは1937年の日中戦争直前まで続いた。台湾からの留学生は1901年頃から増え、1922年には2400名以上を数えた。1935年に外務省文化事業部により「国際学友会」が設立され、中国を除く世界各地からの留学生の受入れを担当した。第二次世界大戦が始まると欧米などからの留学生は事実上途絶えたが、1943・1944年度は、大東亜省の指示により東南アジア諸地域より「南方特別留学生」が招かれた。第二次世界大戦後以降.バブル期の1985-86年ごろには、就学生相手に一商売をもくろんだ「日本語学校」が乱立し、社会問題化した。日本国内における日本語教育.日本国内における日本語教育実施機関・施設等で学ぶ日本語学習者数は、2015年（平成27年）11月現在、19万人に達している。これら留学生の所属別では、法務省告示機関（いわゆる日本語学校）が最も多く約7万人、大学等機関が約5万人、国際交流協会が約3万人、地方公共団体および教育委員会がそれぞれ約1万人となっている。また、在住外国人のために各地の地方自治体やNPOがボランティア教師による日本語講座や日本語教室を開催している。対象者は中国残留日本人孤児帰国者や日系人、国際結婚により来住した外国人女性などが多い。在住外国人増加につれ、同伴されてきたり日本で生まれたりした、日本語が母語ではない子どもたちが地域の小・中学校等に在籍することが増えてきている。また、海外で生まれ育ったために日本語指導が必要な日本人児童生徒も存在している。日本語指導が必要な外国人児童生徒は平成26年度で約29,000人、同じく日本人児童生徒は約8,000人にのぼり、うち約 75%が小学校に在籍していると報告されている。このような児童が多数在籍する学校には日本語指導を行う教員を加配する措置がある。少数在籍の学校では、ボランティア指導員が派遣される場合もある一方、全く日本語指導を受けられない場合もある。母語が確立していないこと、教科学習を行わなければならないことなど、子どもたちへの日本語教育は留学生や成人への日本語教育と異なる条件があるため、「年少者日本語教育」と呼ばれることもある。日本国外における日本語教育.世界全体の日本語学習者数は2015年（平成27年）現在で約365万人である。日本語は中国語と並んでアジアの主要な言語であり、日本国外の主要な大学には日本語学科が設置され、日本語を第二外国語として教える学校も多い。さらにオーストラリア、ベトナム、フランスなどでは初等・中等教育でも日本語教育が行われており、学習者数は格段に増加する。韓国の高校では日本語が第二外国語の一つになっており、中国語の次に履修率も高く、大学などでの履修者も含めると世界最大の日本語学習国であったが、2011年の中等教育の教育課程改定において第二外国語が必修科目から外されたこと、少子化が加速していることから、日本語学習者は漸減し続けている。中国の日本語教育は大学が中心だが、人口が多いので日本語学習者総数は95万人に達し、最大の日本語学習国となっている。日本語教育文法.日本語教育文法は、日本の公立学校で教わる学校文法とは、その内容を異にする。下記はその一例である。教授法.学習者にとって日本語は外国語（あるいは第二言語）であるので、指導に際しては外国語教授法が用いられる。言語学や学習理論、変形文法、認知学習理論、第二言語習得理論など様々な理論に基づいている。',\n",
              "  'title': '日本語教育'},\n",
              " '_type': '_doc'}"
            ]
          },
          "metadata": {},
          "execution_count": 23
        }
      ]
    },
    {
      "cell_type": "markdown",
      "source": [
        "結果をファイルに書き込む時間を除いて測定してみます。"
      ],
      "metadata": {
        "id": "1mvs4i6jociC"
      }
    },
    {
      "cell_type": "code",
      "execution_count": null,
      "metadata": {
        "colab": {
          "base_uri": "https://localhost:8080/"
        },
        "id": "81_-yOyKUn7k",
        "outputId": "b225ab08-3b12-4327-aea0-8e3150539e17"
      },
      "outputs": [
        {
          "output_type": "stream",
          "name": "stdout",
          "text": [
            "  % Total    % Received % Xferd  Average Speed   Time    Time     Time  Current\n",
            "                                 Dload  Upload   Total   Spent    Left  Speed\n",
            "100  164M  100  164M  100    65  65.4M     25  0:00:02  0:00:02 --:--:-- 65.4M\n",
            "CPU times: user 58 ms, sys: 60.1 ms, total: 118 ms\n",
            "Wall time: 2.68 s\n"
          ]
        }
      ],
      "source": [
        "%%time\n",
        "!curl -XGET 'http://localhost:9200/wiki_jp/_search' -H 'Content-Type: application/json' -d '{\"query\": {\"match_phrase\": { \"body\": \"日本語\"}}, \"size\":20000}'  > /dev/null"
      ]
    },
    {
      "cell_type": "markdown",
      "source": [
        "ファイルの書き込み時間は3分の1程度のようです。\n",
        "\n",
        "出力をtitleだけにしてみます。"
      ],
      "metadata": {
        "id": "boaP5UoJp5jl"
      }
    },
    {
      "cell_type": "code",
      "source": [
        "%%time\n",
        "!curl -XGET 'http://localhost:9200/wiki_jp/_search?pretty' -H 'Content-Type: application/json' -d '{\"query\": {\"match_phrase\": { \"body\": \"日本語\"}}, \"size\":20000, \"_source\":\"title\"}' > result"
      ],
      "metadata": {
        "colab": {
          "base_uri": "https://localhost:8080/"
        },
        "id": "xtcCQceLQwBs",
        "outputId": "5790a712-ff67-482c-d3a6-0a5206502efb"
      },
      "execution_count": null,
      "outputs": [
        {
          "output_type": "stream",
          "name": "stdout",
          "text": [
            "  % Total    % Received % Xferd  Average Speed   Time    Time     Time  Current\n",
            "                                 Dload  Upload   Total   Spent    Left  Speed\n",
            "100 3611k  100 3611k  100    84   624k     14  0:00:06  0:00:05  0:00:01 1009k\n",
            "CPU times: user 66 ms, sys: 31.1 ms, total: 97.1 ms\n",
            "Wall time: 5.99 s\n"
          ]
        }
      ]
    },
    {
      "cell_type": "markdown",
      "source": [
        "結果を確認します。"
      ],
      "metadata": {
        "id": "DlcAr3RQqZci"
      }
    },
    {
      "cell_type": "code",
      "source": [
        "import json\n",
        "with open('result') as fin:\n",
        "    results = json.load(fin)\n",
        "print(len(results['hits']['hits']))\n",
        "results['hits']['hits'][0]"
      ],
      "metadata": {
        "colab": {
          "base_uri": "https://localhost:8080/"
        },
        "id": "XihUMh8sRFTf",
        "outputId": "fdb30232-ee07-4057-fe9f-d41d3705a761"
      },
      "execution_count": null,
      "outputs": [
        {
          "output_type": "stream",
          "name": "stdout",
          "text": [
            "17006\n"
          ]
        },
        {
          "output_type": "execute_result",
          "data": {
            "text/plain": [
              "{'_id': 'mFpPd4ABdhv1sUEQXV1x',\n",
              " '_index': 'wiki_jp',\n",
              " '_score': 9.08582,\n",
              " '_source': {'title': '日本語教育'},\n",
              " '_type': '_doc'}"
            ]
          },
          "metadata": {},
          "execution_count": 26
        }
      ]
    },
    {
      "cell_type": "markdown",
      "source": [
        "ファイル出力を除いてみます。"
      ],
      "metadata": {
        "id": "d22jDIqaqb-N"
      }
    },
    {
      "cell_type": "code",
      "source": [
        "%%time\n",
        "!curl -XGET 'http://localhost:9200/wiki_jp/_search?pretty' -H 'Content-Type: application/json' -d '{\"query\": {\"match_phrase\": { \"body\": \"日本語\"}}, \"size\":20000, \"_source\":\"title\"}' > /dev/null"
      ],
      "metadata": {
        "colab": {
          "base_uri": "https://localhost:8080/"
        },
        "id": "kCDGLHkhXFEC",
        "outputId": "1be558d5-26ea-4da6-e055-febbac0d35a8"
      },
      "execution_count": null,
      "outputs": [
        {
          "output_type": "stream",
          "name": "stdout",
          "text": [
            "  % Total    % Received % Xferd  Average Speed   Time    Time     Time  Current\n",
            "                                 Dload  Upload   Total   Spent    Left  Speed\n",
            "100 3611k  100 3611k  100    84   837k     19  0:00:04  0:00:04 --:--:--  837k\n",
            "CPU times: user 59.5 ms, sys: 82.1 ms, total: 142 ms\n",
            "Wall time: 4.47 s\n"
          ]
        }
      ]
    },
    {
      "cell_type": "markdown",
      "source": [
        "出力量が少ないので、書き込み時間も少ないようです。"
      ],
      "metadata": {
        "id": "6D6FhUorqlIV"
      }
    },
    {
      "cell_type": "markdown",
      "source": [
        "最後にコンテンツを取得しない検索"
      ],
      "metadata": {
        "id": "0ogkEe0VYLWe"
      }
    },
    {
      "cell_type": "code",
      "source": [
        "%%time\n",
        "!curl -XGET 'http://localhost:9200/wiki_jp/_search?pretty' -H 'Content-Type: application/json' -d '{\"query\": {\"match_phrase\": { \"body\": \"日本語\"}}, \"size\":20000, \"_source\":\"\"}' > result"
      ],
      "metadata": {
        "colab": {
          "base_uri": "https://localhost:8080/"
        },
        "id": "rVuSwsYuX1SI",
        "outputId": "8915e8ca-61ed-400e-e428-a7ae8e875fec"
      },
      "execution_count": null,
      "outputs": [
        {
          "output_type": "stream",
          "name": "stdout",
          "text": [
            "  % Total    % Received % Xferd  Average Speed   Time    Time     Time  Current\n",
            "                                 Dload  Upload   Total   Spent    Left  Speed\n",
            "100 2765k  100 2765k  100    79   812k     23  0:00:03  0:00:03 --:--:--  812k\n",
            "CPU times: user 38.8 ms, sys: 33 ms, total: 71.8 ms\n",
            "Wall time: 3.61 s\n"
          ]
        }
      ]
    },
    {
      "cell_type": "code",
      "source": [
        "import json\n",
        "with open('result') as fin:\n",
        "    results = json.load(fin)\n",
        "print(len(results['hits']['hits']))\n",
        "results['hits']['hits'][0]"
      ],
      "metadata": {
        "colab": {
          "base_uri": "https://localhost:8080/"
        },
        "id": "dUwww_M1X4dm",
        "outputId": "b1bea17f-151a-4a30-83cc-dc8fbd1af124"
      },
      "execution_count": null,
      "outputs": [
        {
          "output_type": "stream",
          "name": "stdout",
          "text": [
            "17006\n"
          ]
        },
        {
          "output_type": "execute_result",
          "data": {
            "text/plain": [
              "{'_id': 'mFpPd4ABdhv1sUEQXV1x',\n",
              " '_index': 'wiki_jp',\n",
              " '_score': 9.08582,\n",
              " '_source': {},\n",
              " '_type': '_doc'}"
            ]
          },
          "metadata": {},
          "execution_count": 32
        }
      ]
    },
    {
      "cell_type": "code",
      "source": [
        "%%time\n",
        "!curl -XGET 'http://localhost:9200/wiki_jp/_search?pretty' -H 'Content-Type: application/json' -d '{\"query\": {\"match_phrase\": { \"body\": \"日本語\"}}, \"size\":20000, \"_source\":\"\"}' > /dev/null"
      ],
      "metadata": {
        "colab": {
          "base_uri": "https://localhost:8080/"
        },
        "id": "kqD5VZGPYgfY",
        "outputId": "d71049a6-652d-454e-a2c0-3e1f2d487441"
      },
      "execution_count": null,
      "outputs": [
        {
          "output_type": "stream",
          "name": "stdout",
          "text": [
            "  % Total    % Received % Xferd  Average Speed   Time    Time     Time  Current\n",
            "                                 Dload  Upload   Total   Spent    Left  Speed\n",
            "100 2765k  100 2765k  100    79   945k     26  0:00:03  0:00:02  0:00:01  944k\n",
            "CPU times: user 39.1 ms, sys: 24.1 ms, total: 63.2 ms\n",
            "Wall time: 3.07 s\n"
          ]
        }
      ]
    },
    {
      "cell_type": "markdown",
      "source": [
        "テキストを生成／転送しない分だけ時間が短くなっています。"
      ],
      "metadata": {
        "id": "gv80aEllYYHb"
      }
    }
  ]
}