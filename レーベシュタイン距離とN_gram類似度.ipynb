{
  "nbformat": 4,
  "nbformat_minor": 0,
  "metadata": {
    "colab": {
      "provenance": [],
      "collapsed_sections": [],
      "authorship_tag": "ABX9TyMHAmsX24iOXUB+E4fLvLJT",
      "include_colab_link": true
    },
    "kernelspec": {
      "name": "python3",
      "display_name": "Python 3"
    },
    "language_info": {
      "name": "python"
    }
  },
  "cells": [
    {
      "cell_type": "markdown",
      "metadata": {
        "id": "view-in-github",
        "colab_type": "text"
      },
      "source": [
        "<a href=\"https://colab.research.google.com/github/otanet/infomation_retrival_system/blob/main/%E3%83%AC%E3%83%BC%E3%83%99%E3%82%B7%E3%83%A5%E3%82%BF%E3%82%A4%E3%83%B3%E8%B7%9D%E9%9B%A2%E3%81%A8N_gram%E9%A1%9E%E4%BC%BC%E5%BA%A6.ipynb\" target=\"_parent\"><img src=\"https://colab.research.google.com/assets/colab-badge.svg\" alt=\"Open In Colab\"/></a>"
      ]
    },
    {
      "cell_type": "code",
      "execution_count": null,
      "metadata": {
        "id": "mIRpscUSTISl"
      },
      "outputs": [],
      "source": []
    },
    {
      "cell_type": "code",
      "source": [
        "# レーベシュタイン距離を求める\n",
        "def calc_distance(a, b):\n",
        "    ''' レーベンシュタイン距離を計算する '''\n",
        "    if a == b: return 0\n",
        "    a_len = len(a)\n",
        "    b_len = len(b)\n",
        "    if a == \"\": return b_len\n",
        "    if b == \"\": return a_len\n",
        "    # 二次元の表(a_len+1, b_len+1)を準備 --- (※1)\n",
        "    matrix = [[] for i in range(a_len+1)]\n",
        "    for i in range(a_len+1): # 0 で初期化\n",
        "        matrix[i] = [0 for j in range(b_len+1)]\n",
        "    # 0の時の初期値を設定\n",
        "    for i in range(a_len+1):\n",
        "        matrix[i][0] = i\n",
        "    for j in range(b_len+1):\n",
        "        matrix[0][j] = j\n",
        "    # 表を埋める --- (※2)\n",
        "    for i in range(1, a_len+1):\n",
        "        ac = a[i-1]\n",
        "        for j in range(1, b_len+1):\n",
        "            bc = b[j-1]\n",
        "            cost = 0 if (ac == bc) else 1\n",
        "            matrix[i][j] = min([\n",
        "                matrix[i-1][j] + 1,     # 文字の挿入\n",
        "                matrix[i][j-1] + 1,     # 文字の削除\n",
        "                matrix[i-1][j-1] + cost # 文字の置換\n",
        "            ])\n",
        "    return matrix[a_len][b_len]\n",
        "\n",
        "# カキトメとカンヅメの距離は？ --- (※3)\n",
        "print(calc_distance(\"カキトメ\", \"カンヅメ\"))\n",
        "\n",
        "# 実行例\n",
        "samples = [\"イカダ\", \"イカスミ\", \"イカ\", \"サカナ\", \"サンマ\", \"カナダ\"]\n",
        "base = samples[0]\n",
        "r = sorted(samples,\n",
        "    key = lambda n: calc_distance(base, n))\n",
        "for n in r:\n",
        "    print(calc_distance(base, n), n)\n",
        "\n"
      ],
      "metadata": {
        "colab": {
          "base_uri": "https://localhost:8080/"
        },
        "id": "ils9vHbRTJvG",
        "outputId": "32bcff5b-1690-4db9-e830-3998ae528032"
      },
      "execution_count": null,
      "outputs": [
        {
          "output_type": "stream",
          "name": "stdout",
          "text": [
            "2\n",
            "0 イカダ\n",
            "1 イカ\n",
            "2 イカスミ\n",
            "2 サカナ\n",
            "2 カナダ\n",
            "3 サンマ\n"
          ]
        }
      ]
    },
    {
      "cell_type": "markdown",
      "source": [],
      "metadata": {
        "id": "crOY8xpFTQMK"
      }
    },
    {
      "cell_type": "code",
      "source": [
        "def ngram(s, num):\n",
        "    res = []\n",
        "    slen = len(s) - num + 1\n",
        "    for i in range(slen):\n",
        "        ss = s[i:i+num]\n",
        "        res.append(ss)\n",
        "    return res\n",
        "\n",
        "def diff_ngram(sa, sb, num):\n",
        "    a = ngram(sa, num)\n",
        "    b = ngram(sb, num)\n",
        "    r = []\n",
        "    cnt = 0\n",
        "    for i in a:\n",
        "        for j in b:\n",
        "            if i == j:\n",
        "                cnt += 1\n",
        "                r.append(i)\n",
        "    return cnt / len(a), r\n",
        "\n",
        "\n",
        "a = \"今日、渋谷で美味しいトンカツを食べた。\"\n",
        "b = \"渋谷で食べた今日のトンカツは美味しかった。\"\n",
        "# 2-gram\n",
        "r2, word2 = diff_ngram(a, b, 2)\n",
        "print(\"2-gram:\", r2, word2)\n",
        "# 3-gram\n",
        "r3, word3  = diff_ngram(a, b, 3)\n",
        "print(\"3-gram:\", r3, word3)"
      ],
      "metadata": {
        "colab": {
          "base_uri": "https://localhost:8080/"
        },
        "id": "K-CtS6oHTOyI",
        "outputId": "746c9c78-5c7b-4a9c-e8a4-e1e906a5b9e4"
      },
      "execution_count": 2,
      "outputs": [
        {
          "output_type": "stream",
          "name": "stdout",
          "text": [
            "2-gram: 0.0 []\n",
            "3-gram: 0.0 []\n"
          ]
        }
      ]
    },
    {
      "cell_type": "code",
      "source": [],
      "metadata": {
        "id": "LGh23OjCTQ3v"
      },
      "execution_count": null,
      "outputs": []
    },
    {
      "cell_type": "code",
      "source": [],
      "metadata": {
        "id": "QFDQT5ZPTQ72"
      },
      "execution_count": null,
      "outputs": []
    }
  ]
}